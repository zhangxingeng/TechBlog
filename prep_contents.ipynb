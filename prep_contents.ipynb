{
 "cells": [
  {
   "cell_type": "code",
   "execution_count": 2,
   "metadata": {},
   "outputs": [],
   "source": [
    "import os\n",
    "from pathlib import Path\n",
    "root = Path(os.getcwd())"
   ]
  },
  {
   "cell_type": "code",
   "execution_count": null,
   "metadata": {},
   "outputs": [],
   "source": [
    "def path_function(curr_path: Path):\n",
    "    pass\n",
    "\n",
    "\n",
    "def file_function(curr_fpath: Path):\n",
    "    pass\n",
    "\n",
    "\n",
    "def _rec_traverse(curr_path: Path):\n",
    "    if curr_path.is_dir():\n",
    "        path_function(curr_path)\n",
    "        for child in curr_path.iterdir():\n",
    "            _rec_traverse(child)\n",
    "    else:\n",
    "        # if end with md then call file_function\n",
    "        if curr_path.suffix == \".md\":\n",
    "            file_function(curr_path)"
   ]
  }
 ],
 "metadata": {
  "kernelspec": {
   "display_name": "ml",
   "language": "python",
   "name": "python3"
  },
  "language_info": {
   "codemirror_mode": {
    "name": "ipython",
    "version": 3
   },
   "file_extension": ".py",
   "mimetype": "text/x-python",
   "name": "python",
   "nbconvert_exporter": "python",
   "pygments_lexer": "ipython3",
   "version": "3.12.4"
  }
 },
 "nbformat": 4,
 "nbformat_minor": 2
}
